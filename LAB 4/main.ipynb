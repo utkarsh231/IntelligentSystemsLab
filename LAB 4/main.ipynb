{
 "cells": [
  {
   "cell_type": "code",
   "execution_count": 1,
   "metadata": {},
   "outputs": [],
   "source": [
    "import pandas as pd\n",
    "import numpy as np\n"
   ]
  },
  {
   "cell_type": "code",
   "execution_count": 2,
   "metadata": {},
   "outputs": [],
   "source": [
    "import matplotlib.pyplot as plt\n",
    "from sklearn.linear_model import LinearRegression\n",
    "from sklearn.model_selection import train_test_split"
   ]
  },
  {
   "cell_type": "code",
   "execution_count": 3,
   "metadata": {},
   "outputs": [
    {
     "data": {
      "text/html": [
       "<div>\n",
       "<style scoped>\n",
       "    .dataframe tbody tr th:only-of-type {\n",
       "        vertical-align: middle;\n",
       "    }\n",
       "\n",
       "    .dataframe tbody tr th {\n",
       "        vertical-align: top;\n",
       "    }\n",
       "\n",
       "    .dataframe thead th {\n",
       "        text-align: right;\n",
       "    }\n",
       "</style>\n",
       "<table border=\"1\" class=\"dataframe\">\n",
       "  <thead>\n",
       "    <tr style=\"text-align: right;\">\n",
       "      <th></th>\n",
       "      <th>R&amp;D Spend</th>\n",
       "      <th>Administration</th>\n",
       "      <th>Marketing Spend</th>\n",
       "      <th>State</th>\n",
       "      <th>Profit</th>\n",
       "    </tr>\n",
       "  </thead>\n",
       "  <tbody>\n",
       "    <tr>\n",
       "      <th>0</th>\n",
       "      <td>165349.20</td>\n",
       "      <td>136897.80</td>\n",
       "      <td>471784.10</td>\n",
       "      <td>New York</td>\n",
       "      <td>192261.83</td>\n",
       "    </tr>\n",
       "    <tr>\n",
       "      <th>1</th>\n",
       "      <td>162597.70</td>\n",
       "      <td>151377.59</td>\n",
       "      <td>443898.53</td>\n",
       "      <td>California</td>\n",
       "      <td>191792.06</td>\n",
       "    </tr>\n",
       "    <tr>\n",
       "      <th>2</th>\n",
       "      <td>153441.51</td>\n",
       "      <td>101145.55</td>\n",
       "      <td>407934.54</td>\n",
       "      <td>Florida</td>\n",
       "      <td>191050.39</td>\n",
       "    </tr>\n",
       "    <tr>\n",
       "      <th>3</th>\n",
       "      <td>144372.41</td>\n",
       "      <td>118671.85</td>\n",
       "      <td>383199.62</td>\n",
       "      <td>New York</td>\n",
       "      <td>182901.99</td>\n",
       "    </tr>\n",
       "    <tr>\n",
       "      <th>4</th>\n",
       "      <td>142107.34</td>\n",
       "      <td>91391.77</td>\n",
       "      <td>366168.42</td>\n",
       "      <td>Florida</td>\n",
       "      <td>166187.94</td>\n",
       "    </tr>\n",
       "  </tbody>\n",
       "</table>\n",
       "</div>"
      ],
      "text/plain": [
       "   R&D Spend  Administration  Marketing Spend       State     Profit\n",
       "0  165349.20       136897.80        471784.10    New York  192261.83\n",
       "1  162597.70       151377.59        443898.53  California  191792.06\n",
       "2  153441.51       101145.55        407934.54     Florida  191050.39\n",
       "3  144372.41       118671.85        383199.62    New York  182901.99\n",
       "4  142107.34        91391.77        366168.42     Florida  166187.94"
      ]
     },
     "execution_count": 3,
     "metadata": {},
     "output_type": "execute_result"
    }
   ],
   "source": [
    "df = pd.read_csv(\"50_Startups.csv\")\n",
    "df.head()"
   ]
  },
  {
   "cell_type": "code",
   "execution_count": 4,
   "metadata": {},
   "outputs": [
    {
     "data": {
      "text/plain": [
       "R&D Spend          0\n",
       "Administration     0\n",
       "Marketing Spend    0\n",
       "State              0\n",
       "Profit             0\n",
       "dtype: int64"
      ]
     },
     "execution_count": 4,
     "metadata": {},
     "output_type": "execute_result"
    }
   ],
   "source": [
    "df.isnull().sum()"
   ]
  },
  {
   "cell_type": "code",
   "execution_count": 5,
   "metadata": {},
   "outputs": [
    {
     "data": {
      "text/plain": [
       "New York      17\n",
       "California    17\n",
       "Florida       16\n",
       "Name: State, dtype: int64"
      ]
     },
     "execution_count": 5,
     "metadata": {},
     "output_type": "execute_result"
    }
   ],
   "source": [
    "df['State'].value_counts()"
   ]
  },
  {
   "cell_type": "code",
   "execution_count": 6,
   "metadata": {},
   "outputs": [],
   "source": [
    "x = df.iloc[:, :-1]\n",
    "y = df.iloc[:, -1]"
   ]
  },
  {
   "cell_type": "code",
   "execution_count": 7,
   "metadata": {},
   "outputs": [
    {
     "name": "stdout",
     "output_type": "stream",
     "text": [
      "    R&D Spend  Administration  Marketing Spend  R&D Spend  Administration  \\\n",
      "0   165349.20       136897.80        471784.10  165349.20       136897.80   \n",
      "1   162597.70       151377.59        443898.53  162597.70       151377.59   \n",
      "2   153441.51       101145.55        407934.54  153441.51       101145.55   \n",
      "3   144372.41       118671.85        383199.62  144372.41       118671.85   \n",
      "4   142107.34        91391.77        366168.42  142107.34        91391.77   \n",
      "5   131876.90        99814.71        362861.36  131876.90        99814.71   \n",
      "6   134615.46       147198.87        127716.82  134615.46       147198.87   \n",
      "7   130298.13       145530.06        323876.68  130298.13       145530.06   \n",
      "8   120542.52       148718.95        311613.29  120542.52       148718.95   \n",
      "9   123334.88       108679.17        304981.62  123334.88       108679.17   \n",
      "10  101913.08       110594.11        229160.95  101913.08       110594.11   \n",
      "11  100671.96        91790.61        249744.55  100671.96        91790.61   \n",
      "12   93863.75       127320.38        249839.44   93863.75       127320.38   \n",
      "13   91992.39       135495.07        252664.93   91992.39       135495.07   \n",
      "14  119943.24       156547.42        256512.92  119943.24       156547.42   \n",
      "15  114523.61       122616.84        261776.23  114523.61       122616.84   \n",
      "16   78013.11       121597.55        264346.06   78013.11       121597.55   \n",
      "17   94657.16       145077.58        282574.31   94657.16       145077.58   \n",
      "18   91749.16       114175.79        294919.57   91749.16       114175.79   \n",
      "19   86419.70       153514.11             0.00   86419.70       153514.11   \n",
      "20   76253.86       113867.30        298664.47   76253.86       113867.30   \n",
      "21   78389.47       153773.43        299737.29   78389.47       153773.43   \n",
      "22   73994.56       122782.75        303319.26   73994.56       122782.75   \n",
      "23   67532.53       105751.03        304768.73   67532.53       105751.03   \n",
      "24   77044.01        99281.34        140574.81   77044.01        99281.34   \n",
      "25   64664.71       139553.16        137962.62   64664.71       139553.16   \n",
      "26   75328.87       144135.98        134050.07   75328.87       144135.98   \n",
      "27   72107.60       127864.55        353183.81   72107.60       127864.55   \n",
      "28   66051.52       182645.56        118148.20   66051.52       182645.56   \n",
      "29   65605.48       153032.06        107138.38   65605.48       153032.06   \n",
      "30   61994.48       115641.28         91131.24   61994.48       115641.28   \n",
      "31   61136.38       152701.92         88218.23   61136.38       152701.92   \n",
      "32   63408.86       129219.61         46085.25   63408.86       129219.61   \n",
      "33   55493.95       103057.49        214634.81   55493.95       103057.49   \n",
      "34   46426.07       157693.92        210797.67   46426.07       157693.92   \n",
      "35   46014.02        85047.44        205517.64   46014.02        85047.44   \n",
      "36   28663.76       127056.21        201126.82   28663.76       127056.21   \n",
      "37   44069.95        51283.14        197029.42   44069.95        51283.14   \n",
      "38   20229.59        65947.93        185265.10   20229.59        65947.93   \n",
      "39   38558.51        82982.09        174999.30   38558.51        82982.09   \n",
      "40   28754.33       118546.05        172795.67   28754.33       118546.05   \n",
      "41   27892.92        84710.77        164470.71   27892.92        84710.77   \n",
      "42   23640.93        96189.63        148001.11   23640.93        96189.63   \n",
      "43   15505.73       127382.30         35534.17   15505.73       127382.30   \n",
      "44   22177.74       154806.14         28334.72   22177.74       154806.14   \n",
      "45    1000.23       124153.04          1903.93    1000.23       124153.04   \n",
      "46    1315.46       115816.21        297114.46    1315.46       115816.21   \n",
      "47       0.00       135426.92             0.00       0.00       135426.92   \n",
      "48     542.05        51743.15             0.00     542.05        51743.15   \n",
      "49       0.00       116983.80         45173.06       0.00       116983.80   \n",
      "\n",
      "    Marketing Spend  State_Florida  State_New York  \n",
      "0         471784.10              0               1  \n",
      "1         443898.53              0               0  \n",
      "2         407934.54              1               0  \n",
      "3         383199.62              0               1  \n",
      "4         366168.42              1               0  \n",
      "5         362861.36              0               1  \n",
      "6         127716.82              0               0  \n",
      "7         323876.68              1               0  \n",
      "8         311613.29              0               1  \n",
      "9         304981.62              0               0  \n",
      "10        229160.95              1               0  \n",
      "11        249744.55              0               0  \n",
      "12        249839.44              1               0  \n",
      "13        252664.93              0               0  \n",
      "14        256512.92              1               0  \n",
      "15        261776.23              0               1  \n",
      "16        264346.06              0               0  \n",
      "17        282574.31              0               1  \n",
      "18        294919.57              1               0  \n",
      "19             0.00              0               1  \n",
      "20        298664.47              0               0  \n",
      "21        299737.29              0               1  \n",
      "22        303319.26              1               0  \n",
      "23        304768.73              1               0  \n",
      "24        140574.81              0               1  \n",
      "25        137962.62              0               0  \n",
      "26        134050.07              1               0  \n",
      "27        353183.81              0               1  \n",
      "28        118148.20              1               0  \n",
      "29        107138.38              0               1  \n",
      "30         91131.24              1               0  \n",
      "31         88218.23              0               1  \n",
      "32         46085.25              0               0  \n",
      "33        214634.81              1               0  \n",
      "34        210797.67              0               0  \n",
      "35        205517.64              0               1  \n",
      "36        201126.82              1               0  \n",
      "37        197029.42              0               0  \n",
      "38        185265.10              0               1  \n",
      "39        174999.30              0               0  \n",
      "40        172795.67              0               0  \n",
      "41        164470.71              1               0  \n",
      "42        148001.11              0               0  \n",
      "43         35534.17              0               1  \n",
      "44         28334.72              0               0  \n",
      "45          1903.93              0               1  \n",
      "46        297114.46              1               0  \n",
      "47             0.00              0               0  \n",
      "48             0.00              0               1  \n",
      "49         45173.06              0               0  \n"
     ]
    }
   ],
   "source": [
    "#handle categorical variable\n",
    "states = pd.get_dummies(x,drop_first=True)\n",
    "#dropping extra column\n",
    "x=x.drop('State',axis = 1)\n",
    "#concatation of independent variables and new caategorical variable\n",
    "x = pd.concat([x,states],axis=1)\n",
    "print(x)"
   ]
  },
  {
   "cell_type": "code",
   "execution_count": 8,
   "metadata": {},
   "outputs": [],
   "source": [
    "x_train,x_test,y_train,y_test = train_test_split(x,y,test_size = 0.2, random_state=42)\n"
   ]
  },
  {
   "cell_type": "code",
   "execution_count": 9,
   "metadata": {},
   "outputs": [
    {
     "data": {
      "text/plain": [
       "LinearRegression()"
      ]
     },
     "execution_count": 9,
     "metadata": {},
     "output_type": "execute_result"
    }
   ],
   "source": [
    "LR = LinearRegression()\n",
    "#fitting the training data\n",
    "LR.fit(x_train,y_train)\n"
   ]
  },
  {
   "cell_type": "code",
   "execution_count": 10,
   "metadata": {},
   "outputs": [
    {
     "data": {
      "text/plain": [
       "array([126362.87908253,  84608.45383639,  99677.49425151,  46357.46068582,\n",
       "       128750.48288501,  50912.41741892, 109741.35032701, 100643.24281646,\n",
       "        97599.27574597, 113097.42524434])"
      ]
     },
     "execution_count": 10,
     "metadata": {},
     "output_type": "execute_result"
    }
   ],
   "source": [
    "y_prediction = LR.predict(x_test)\n",
    "y_prediction"
   ]
  },
  {
   "cell_type": "code",
   "execution_count": 11,
   "metadata": {},
   "outputs": [
    {
     "name": "stdout",
     "output_type": "stream",
     "text": [
      "r2 score is 0.8987266414324236\n",
      "Mean squaured error :  82010363.04465738\n",
      "root mean squared error :  9055.957323478142\n"
     ]
    }
   ],
   "source": [
    "#importing r2 score\n",
    "from sklearn.metrics import r2_score\n",
    "from sklearn.metrics import mean_squared_error\n",
    "\n",
    "#predicting the accuracy score\n",
    "score = r2_score (y_test,y_prediction)\n",
    "print ('r2 score is',score)\n",
    "print( 'Mean squaured error : ', mean_squared_error(y_test,y_prediction))\n",
    "print('root mean squared error : ', np.sqrt(mean_squared_error(y_test,y_prediction)))"
   ]
  }
 ],
 "metadata": {
  "kernelspec": {
   "display_name": "Python 3.9.7 ('base')",
   "language": "python",
   "name": "python3"
  },
  "language_info": {
   "codemirror_mode": {
    "name": "ipython",
    "version": 3
   },
   "file_extension": ".py",
   "mimetype": "text/x-python",
   "name": "python",
   "nbconvert_exporter": "python",
   "pygments_lexer": "ipython3",
   "version": "3.9.7"
  },
  "orig_nbformat": 4,
  "vscode": {
   "interpreter": {
    "hash": "a884e71cdb5954f58a14592a63c6aa75814c5d5340df0e6f563bc753f32cf593"
   }
  }
 },
 "nbformat": 4,
 "nbformat_minor": 2
}
